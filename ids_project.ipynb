{
 "cells": [
  {
   "cell_type": "code",
   "execution_count": null,
   "id": "d231bf4e",
   "metadata": {
    "vscode": {
     "languageId": "plaintext"
    }
   },
   "outputs": [],
   "source": [
    "# Fraud_Detection_Analysis.ipynb\n",
    "\n",
    "# Cell 1: Imports\n",
    "import pandas as pd\n",
    "import numpy as np\n",
    "import matplotlib.pyplot as plt\n",
    "import seaborn as sns\n",
    "import json\n",
    "from sklearn.model_selection import train_test_split\n",
    "from sklearn.linear_model import LogisticRegression\n",
    "from sklearn.metrics import roc_auc_score, confusion_matrix, ConfusionMatrixDisplay\n",
    "from sklearn.preprocessing import OneHotEncoder\n",
    "import xgboost as xgb\n",
    "import warnings\n",
    "warnings.filterwarnings('ignore')\n"
   ]
  },
  {
   "cell_type": "markdown",
   "id": "4789f7e6",
   "metadata": {},
   "source": []
  },
  {
   "cell_type": "markdown",
   "id": "c641499a",
   "metadata": {},
   "source": [
    "# 💳 Fraud Detection Using Machine Learning\n",
    "\n",
    "Welcome to the **Fraud Detection Project**. This notebook walks through the complete data science workflow to analyze transaction data and detect fraudulent activities.\n",
    "\n",
    "### Objectives:\n",
    "- Perform Exploratory Data Analysis (EDA)\n",
    "- Preprocess the data\n",
    "- Train machine learning models\n",
    "- Evaluate performance\n"
   ]
  },
  {
   "cell_type": "code",
   "execution_count": null,
   "id": "8c650c7c",
   "metadata": {
    "vscode": {
     "languageId": "plaintext"
    }
   },
   "outputs": [],
   "source": [
    "# Cell 2: Load and Merge Data\n",
    "df_tx = pd.read_csv(\"data/transactions_data.csv\")\n",
    "df_cards = pd.read_csv(\"data/cards_dat.csv\")\n",
    "df_labels = pd.read_csv(\"data/fraud_labels.csv\")\n",
    "\n",
    "with open(\"data/mcc_codes.json\") as f:\n",
    "    mcc_map = json.load(f)\n",
    "\n",
    "# Merge\n",
    "df = df_tx.merge(df_labels, on=\"transaction_id\", how=\"left\")\n",
    "df = df.merge(df_cards, on=\"card_id\", how=\"left\")\n",
    "df[\"mcc_desc\"] = df[\"mcc_code\"].map(mcc_map)\n",
    "\n",
    "df.head()\n"
   ]
  },
  {
   "cell_type": "markdown",
   "id": "ba1c469f",
   "metadata": {},
   "source": [
    "## 📊 Exploratory Data Analysis (EDA)\n",
    "Let's explore the dataset using 11 different analyses.\n"
   ]
  },
  {
   "cell_type": "code",
   "execution_count": null,
   "id": "df516659",
   "metadata": {
    "vscode": {
     "languageId": "plaintext"
    }
   },
   "outputs": [],
   "source": [
    "# 1. Sample Preview\n",
    "df.sample(5)\n"
   ]
  },
  {
   "cell_type": "code",
   "execution_count": null,
   "id": "f0ef70f9",
   "metadata": {
    "vscode": {
     "languageId": "plaintext"
    }
   },
   "outputs": [],
   "source": [
    "# 2. Summary Statistics\n",
    "df.describe()\n"
   ]
  },
  {
   "cell_type": "code",
   "execution_count": null,
   "id": "63517094",
   "metadata": {
    "vscode": {
     "languageId": "plaintext"
    }
   },
   "outputs": [],
   "source": [
    "# 3. Missing Value Analysis\n",
    "df.isnull().sum()\n"
   ]
  },
  {
   "cell_type": "code",
   "execution_count": null,
   "id": "fc2c755c",
   "metadata": {
    "vscode": {
     "languageId": "plaintext"
    }
   },
   "outputs": [],
   "source": [
    "# 4. Data Types and Unique Value Counts\n",
    "pd.DataFrame({\"Data Type\": df.dtypes, \"Unique Values\": df.nunique()})\n"
   ]
  },
  {
   "cell_type": "code",
   "execution_count": null,
   "id": "033735ba",
   "metadata": {
    "vscode": {
     "languageId": "plaintext"
    }
   },
   "outputs": [],
   "source": [
    "# 5. Fraud Class Distribution\n",
    "df[\"is_fraud\"].value_counts().plot(kind=\"bar\", title=\"Fraud Class Distribution\")\n",
    "plt.xlabel(\"Is Fraud\")\n",
    "plt.ylabel(\"Count\")\n",
    "plt.show()\n"
   ]
  },
  {
   "cell_type": "code",
   "execution_count": null,
   "id": "6b78e58e",
   "metadata": {
    "vscode": {
     "languageId": "plaintext"
    }
   },
   "outputs": [],
   "source": [
    "# 6. Transaction Amount Distribution\n",
    "sns.histplot(df[\"amount\"], bins=50, kde=True)\n",
    "plt.title(\"Transaction Amount Distribution\")\n",
    "plt.show()\n"
   ]
  },
  {
   "cell_type": "code",
   "execution_count": null,
   "id": "c1dc7871",
   "metadata": {
    "vscode": {
     "languageId": "plaintext"
    }
   },
   "outputs": [],
   "source": [
    "# 7. Correlation Matrix\n",
    "corr = df.select_dtypes(include=[np.number]).corr()\n",
    "plt.figure(figsize=(8, 6))\n",
    "sns.heatmap(corr, annot=True, cmap=\"coolwarm\")\n",
    "plt.title(\"Correlation Matrix\")\n",
    "plt.show()\n"
   ]
  },
  {
   "cell_type": "code",
   "execution_count": null,
   "id": "b439ab9d",
   "metadata": {
    "vscode": {
     "languageId": "plaintext"
    }
   },
   "outputs": [],
   "source": [
    "# 8. Outliers: Boxplot of Amount by Fraud\n",
    "sns.boxplot(data=df, x=\"is_fraud\", y=\"amount\")\n",
    "plt.title(\"Amount by Fraud Status\")\n",
    "plt.show()\n"
   ]
  },
  {
   "cell_type": "code",
   "execution_count": null,
   "id": "e22c9701",
   "metadata": {
    "vscode": {
     "languageId": "plaintext"
    }
   },
   "outputs": [],
   "source": [
    "# 9. Top 10 MCC Descriptions\n",
    "df[\"mcc_desc\"].value_counts().head(10)\n"
   ]
  },
  {
   "cell_type": "code",
   "execution_count": null,
   "id": "79e5a5e4",
   "metadata": {
    "vscode": {
     "languageId": "plaintext"
    }
   },
   "outputs": [],
   "source": [
    "# 10. Fraud Rate by Country\n",
    "fraud_rate = df.groupby(\"country_code\")[\"is_fraud\"].mean().sort_values(ascending=False)\n",
    "fraud_rate.head(10)\n"
   ]
  },
  {
   "cell_type": "code",
   "execution_count": null,
   "id": "e04705d6",
   "metadata": {
    "vscode": {
     "languageId": "plaintext"
    }
   },
   "outputs": [],
   "source": [
    "# 11. Pairplot (sample)\n",
    "sample = df[[\"amount\", \"is_fraud\"]].dropna().sample(n=500, random_state=42)\n",
    "sns.pairplot(sample, hue=\"is_fraud\")\n",
    "plt.show()\n"
   ]
  },
  {
   "cell_type": "markdown",
   "id": "485320dc",
   "metadata": {},
   "source": [
    "## 🔄 Data Preprocessing and Model Training\n",
    "\n",
    "We'll use one-hot encoding for categorical variables, split the data, and train models.\n"
   ]
  },
  {
   "cell_type": "code",
   "execution_count": null,
   "id": "4bed499c",
   "metadata": {
    "vscode": {
     "languageId": "plaintext"
    }
   },
   "outputs": [],
   "source": [
    "features = [\"amount\", \"mcc_desc\", \"country_code\"]\n",
    "df_model = df[features + [\"is_fraud\"]].dropna()\n",
    "\n",
    "# One-hot encoding\n",
    "enc = OneHotEncoder(sparse=False, handle_unknown=\"ignore\")\n",
    "X_cat = enc.fit_transform(df_model[[\"mcc_desc\", \"country_code\"]])\n",
    "X = np.hstack([df_model[[\"amount\"]].values, X_cat])\n",
    "y = df_model[\"is_fraud\"].values\n",
    "\n",
    "# Train-test split\n",
    "X_train, X_test, y_train, y_test = train_test_split(X, y, test_size=0.2, random_state=42)\n"
   ]
  },
  {
   "cell_type": "markdown",
   "id": "3d320bc7",
   "metadata": {},
   "source": [
    "### Model 1: Logistic Regression\n"
   ]
  },
  {
   "cell_type": "code",
   "execution_count": null,
   "id": "7e3e04ca",
   "metadata": {
    "vscode": {
     "languageId": "plaintext"
    }
   },
   "outputs": [],
   "source": [
    "lr_model = LogisticRegression(max_iter=1000)\n",
    "lr_model.fit(X_train, y_train)\n",
    "y_pred_lr = lr_model.predict(X_test)\n",
    "y_prob_lr = lr_model.predict_proba(X_test)[:, 1]\n",
    "auc_lr = roc_auc_score(y_test, y_prob_lr)\n",
    "print(f\"Logistic Regression ROC AUC: {auc_lr:.4f}\")\n"
   ]
  },
  {
   "cell_type": "markdown",
   "id": "0971bdb9",
   "metadata": {},
   "source": [
    "### Model 2: XGBoost\n"
   ]
  },
  {
   "cell_type": "code",
   "execution_count": null,
   "id": "c6292f15",
   "metadata": {
    "vscode": {
     "languageId": "plaintext"
    }
   },
   "outputs": [],
   "source": [
    "xgb_model = xgb.XGBClassifier(use_label_encoder=False, eval_metric=\"logloss\")\n",
    "xgb_model.fit(X_train, y_train)\n",
    "y_pred_xgb = xgb_model.predict(X_test)\n",
    "y_prob_xgb = xgb_model.predict_proba(X_test)[:, 1]\n",
    "auc_xgb = roc_auc_score(y_test, y_prob_xgb)\n",
    "print(f\"XGBoost ROC AUC: {auc_xgb:.4f}\")\n"
   ]
  },
  {
   "cell_type": "code",
   "execution_count": null,
   "id": "ae5da7bb",
   "metadata": {
    "vscode": {
     "languageId": "plaintext"
    }
   },
   "outputs": [],
   "source": [
    "# Confusion Matrix for best model\n",
    "cm = confusion_matrix(y_test, y_pred_xgb)\n",
    "disp = ConfusionMatrixDisplay(confusion_matrix=cm, display_labels=[0, 1])\n",
    "disp.plot()\n",
    "plt.title(\"Confusion Matrix - XGBoost\")\n",
    "plt.show()\n"
   ]
  },
  {
   "cell_type": "markdown",
   "id": "0c776205",
   "metadata": {},
   "source": [
    "## 🧾 Conclusion\n",
    "\n",
    "- Successfully performed 11 types of EDA on the fraud dataset.\n",
    "- Preprocessed data using encoding and splitting.\n",
    "- Trained and evaluated Logistic Regression and XGBoost models.\n",
    "- **XGBoost achieved better ROC AUC score**.\n",
    "- The model is capable of detecting fraudulent transactions with reasonable performance.\n",
    "\n",
    "### 🔁 Next Steps:\n",
    "- Add feature engineering (time-based, frequency-based features).\n",
    "- Try oversampling or undersampling due to class imbalance.\n",
    "- Use SHAP values to explain model predictions.\n"
   ]
  }
 ],
 "metadata": {
  "language_info": {
   "name": "python"
  }
 },
 "nbformat": 4,
 "nbformat_minor": 5
}
